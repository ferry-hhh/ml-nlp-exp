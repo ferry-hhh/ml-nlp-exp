{
 "cells": [
  {
   "cell_type": "code",
   "execution_count": 1,
   "metadata": {},
   "outputs": [
    {
     "name": "stdout",
     "output_type": "stream",
     "text": [
      "[[1 2 3]\n",
      " [1 2 3]]\n",
      "[[4 1 4 9 1]\n",
      " [3 4 2 9 1]\n",
      " [3 9 6 1 8]]\n",
      "[[19 36 26 30 27]\n",
      " [19 36 26 30 27]]\n"
     ]
    }
   ],
   "source": [
    "import numpy as np\n",
    "x = np.array([[1,2,3],[1,2,3]])\n",
    "y = np.random.randint(0,10,size=(3,5))\n",
    "print(x)\n",
    "print(y)\n",
    "print(np.dot(x,y))\n"
   ]
  },
  {
   "cell_type": "code",
   "execution_count": 3,
   "metadata": {},
   "outputs": [
    {
     "name": "stdout",
     "output_type": "stream",
     "text": [
      "[[-0.25838797  0.26519444 -0.42793527 -0.12861945]\n",
      " [ 0.30073671 -0.53271873 -0.13115115 -0.02476741]\n",
      " [ 0.10065121  0.27817451  0.33222777  0.04257687]\n",
      " [ 0.41022211  0.14163236 -0.36807594 -0.61403762]\n",
      " [ 0.16596794 -0.51809979  0.43003177  0.24531226]\n",
      " [-0.11162053 -0.46318745 -0.21122916  0.27044822]\n",
      " [ 0.00319097 -0.32604984  0.20101165 -0.12103691]\n",
      " [-0.38194138  0.05841849 -0.29325826  0.12762714]\n",
      " [ 0.03853893  0.18227592 -0.27359711  0.23361881]\n",
      " [ 0.13346041 -0.17117535 -0.34357708 -0.38170151]]\n"
     ]
    }
   ],
   "source": [
    "hidSize = 10\n",
    "inputSize = 4\n",
    "w1 = np.random.normal(0.0, pow(hidSize, -0.5), (hidSize, inputSize))   # 权重\n",
    "print(w1)"
   ]
  }
 ],
 "metadata": {
  "interpreter": {
   "hash": "657e090079c3b878f34aa47a5d22d2b5ee860e49daf290df837fef2eaed85ca4"
  },
  "kernelspec": {
   "display_name": "Python 3.8.0 64-bit ('py38': conda)",
   "name": "python3"
  },
  "language_info": {
   "codemirror_mode": {
    "name": "ipython",
    "version": 3
   },
   "file_extension": ".py",
   "mimetype": "text/x-python",
   "name": "python",
   "nbconvert_exporter": "python",
   "pygments_lexer": "ipython3",
   "version": "3.8.0"
  },
  "orig_nbformat": 4
 },
 "nbformat": 4,
 "nbformat_minor": 2
}
