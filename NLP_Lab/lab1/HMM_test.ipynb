{
 "cells": [
  {
   "cell_type": "code",
   "execution_count": 3,
   "metadata": {},
   "outputs": [
    {
     "name": "stdout",
     "output_type": "stream",
     "text": [
      "含有上标的： ['zi', 'ran', 'yu', 'yan', 'chu', 'li']\n",
      "没有上标的： [['zì'], ['rán'], ['yǔ'], ['yán'], ['chǔ'], ['lǐ']]\n",
      "[['zhǎng', 'cháng']]\n",
      "[['lè', 'yuè']]\n"
     ]
    }
   ],
   "source": [
    "\"\"\"\n",
    "预测测试数据的结果并分析\n",
    "\n",
    "\"\"\"\n",
    "\n",
    "import pypinyin  # 给汉字标注拼音\n",
    "\n",
    "s = \"自然语言处理\"\n",
    "py1 = pypinyin.lazy_pinyin(s)\n",
    "py2 = pypinyin.pinyin(s)\n",
    "print(\"含有上标的：\",py1)\n",
    "print(\"没有上标的：\",py2)\n",
    "\n",
    "s1 = \"长\"\n",
    "s2 = \"乐\"\n",
    "print(pypinyin.pinyin(s1,heteronym=True))\n",
    "print(pypinyin.pinyin(s2,heteronym=True))"
   ]
  },
  {
   "cell_type": "code",
   "execution_count": 8,
   "metadata": {},
   "outputs": [
    {
     "name": "stdout",
     "output_type": "stream",
     "text": [
      "['', '', '', '', '', '', '', '', '', '', '', '', '', '', '', '', '', '', '', '', '', '', '', '', '', '', '', '', '', '', '', '', '', '', '', '', '', '', '', '', '', '', '', '', '', '', '', '', '', '', '', '', '', '', '', '', '', '', '', '', '', '', '', '', '', '', '', '', '', '', '', '', '', '', '', '', '', '', '', '', '', '', '', '', '', '', '', '', '', '', '', '', '', '', '', '', '', '', '', '', '', '', '', '', '', '', '', '', '', '', '', '', '', '', '', '', '', '', '', '', '', '', '', '', '', '', '', '', '', '', '', '', '', '', '', '', '', '', '', '', '', '']\n"
     ]
    }
   ],
   "source": [
    "import re\n",
    "import math\n",
    "txt = \"【#奔驰女车主不接受4S店道歉# 双方现场交涉言语激烈】4月13日，西安维权奔驰女车主和4S店方见面，双方并未当场和解。4S店相关负责人称，由于出差等原因未及时联系车主，车主则反驳称，可通过电话联系，“没人把你的联系方式给我。”交涉过程中双方言语交锋激烈。#西安奔驰女车主维权#  \"\n",
    "pattern = r',|\\.|/|;|\\'|`|\\[|]|<|>|\\?|:|\"|{|}|\\~|!|@|#|\\$|%|\\^|&|\\(|\\)|-|=|\\_|\\+|，|。|、|；|‘|’|“|”|【|】|·|！| |…|（|）'\n",
    "result_list = re.split(pattern, txt)\n",
    "init_prob = {}\n",
    "num = 0\n",
    "len_ = len(result_list)\n",
    "for seq in result_list:\n",
    "    if seq != \"\": # 避免读取空行\n",
    "        init_prob[seq[0]] = init_prob.get(seq[0], 0) + 1\n",
    "        # print(seq)\n",
    "        num +=1\n",
    "        if not num % 5:\n",
    "            print('{}/{}'.format(num, len_))\n",
    "\n",
    "for key in init_prob.keys():\n",
    "    init_prob[key] = math.log(init_prob.get(key) / len_)\n",
    "\n",
    "# print(init_prob)\n",
    "print(result_list)\n"
   ]
  },
  {
   "cell_type": "code",
   "execution_count": 18,
   "metadata": {},
   "outputs": [
    {
     "name": "stdout",
     "output_type": "stream",
     "text": [
      "['ni', 'hao', 'ya']\n"
     ]
    }
   ],
   "source": [
    "pinyin = \"ni hao ya\"\n",
    "py_list = pinyin.split()\n",
    "print(py_list)"
   ]
  },
  {
   "cell_type": "code",
   "execution_count": null,
   "metadata": {},
   "outputs": [],
   "source": []
  }
 ],
 "metadata": {
  "interpreter": {
   "hash": "657e090079c3b878f34aa47a5d22d2b5ee860e49daf290df837fef2eaed85ca4"
  },
  "kernelspec": {
   "display_name": "Python 3.8.0 64-bit ('py38': conda)",
   "name": "python3"
  },
  "language_info": {
   "codemirror_mode": {
    "name": "ipython",
    "version": 3
   },
   "file_extension": ".py",
   "mimetype": "text/x-python",
   "name": "python",
   "nbconvert_exporter": "python",
   "pygments_lexer": "ipython3",
   "version": "3.8.0"
  },
  "orig_nbformat": 4
 },
 "nbformat": 4,
 "nbformat_minor": 2
}
